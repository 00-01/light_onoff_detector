{
 "cells": [
  {
   "cell_type": "code",
   "execution_count": 16,
   "source": [
    "from datetime import datetime as dt\n",
    "import cv2, csv, os, glob\n",
    "import numpy as np\n",
    "import pandas as pd\n",
    "import tensorflow.keras as k\n",
    "import plotly.express as px\n",
    "idle = 0\n",
    "on = 1\n",
    "off = 2\n",
    "for file in glob.glob(\"*.csv\"):\n",
    "    df = pd.read_csv(file)\n",
    "    basename = os.path.basename(file)\n",
    "    \n",
    "    light_data = df[\"light\"]\n",
    "    df = df.assign(average = light_data)\n",
    "    df = df.assign(average_filter = light_data)\n",
    "    average_filter = df['average_filter']\n",
    "\n",
    " # make average column\n",
    "    av = 0\n",
    "    ave = 0\n",
    "    for row, now in light_data.iteritems():\n",
    "        data = (now + ave) / 2\n",
    "        ave = data\n",
    "        df.at[row, 'average'] = data\n",
    "    average = df['average']\n",
    "\n",
    "# average filter\n",
    "    r1 = 0\n",
    "    n1 = 0\n",
    "    min_val = 9\n",
    "    offset = 2\n",
    "    threshold = 10\n",
    "    for row, n in average.iteritems():\n",
    "        r = light_data.loc[row]\n",
    "        if row > 0:\n",
    "            r1 = light_data.loc[row-1]\n",
    "            n1 = average.loc[row-1]\n",
    "        if abs(r - r1) < min_val:\n",
    "            df.loc[row, 'average_filter'] = idle\n",
    "            continue\n",
    "        if (r-r1) > (n-n1) + offset and (r-r1) - (n-n1) > threshold:\n",
    "            df.loc[row, 'average_filter'] = on\n",
    "        # if r > n*2 - offset:\n",
    "            # df.loc[row, 'average_filter'] = on\n",
    "        elif (r1-r) > (n1-n) + offset and (r1-r) - (n1-n) >  threshold:\n",
    "            df.loc[row, 'average_filter'] = off\n",
    "        # elif r1 > n*2 - offset:\n",
    "            # df.loc[row, 'average_filter'] = off\n",
    "        else:\n",
    "            df.loc[row, 'average_filter'] = idle\n",
    "\n",
    "# plot\n",
    "    fig = px.line(df, y=['light', 'average_filter', 'average'])\n",
    "    fig.update_xaxes(rangeslider_visible=True)\n",
    "    fig.show(renderer='browser')\n",
    "\n",
    "# save to csv\n",
    "    df.to_csv(f\"test_result/{basename}\", index=False)\n"
   ],
   "outputs": [],
   "metadata": {}
  }
 ],
 "metadata": {
  "orig_nbformat": 4,
  "language_info": {
   "name": "python",
   "version": "3.8.10",
   "mimetype": "text/x-python",
   "codemirror_mode": {
    "name": "ipython",
    "version": 3
   },
   "pygments_lexer": "ipython3",
   "nbconvert_exporter": "python",
   "file_extension": ".py"
  },
  "kernelspec": {
   "name": "python3",
   "display_name": "Python 3.8.10 64-bit"
  },
  "interpreter": {
   "hash": "31f2aee4e71d21fbe5cf8b01ff0e069b9275f58929596ceb00d14d90e3e16cd6"
  }
 },
 "nbformat": 4,
 "nbformat_minor": 2
}